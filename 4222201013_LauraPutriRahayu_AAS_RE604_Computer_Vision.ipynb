{
 "cells": [
  {
   "cell_type": "code",
   "execution_count": 1,
   "id": "5776a5a8",
   "metadata": {},
   "outputs": [],
   "source": [
    "import os\n",
    "import csv\n",
    "import lmstudio as lms\n",
    "from difflib import SequenceMatcher"
   ]
  },
  {
   "cell_type": "code",
   "execution_count": 2,
   "id": "d18b1d58",
   "metadata": {},
   "outputs": [],
   "source": [
    "TEST_FOLDER = r\"dataset\"\n",
    "GROUND_TRUTH_FILE = os.path.join(TEST_FOLDER, \"ground-truth.csv\")\n",
    "OUTPUT_CSV = os.path.join(TEST_FOLDER, \"prediction_results.csv\")"
   ]
  },
  {
   "cell_type": "code",
   "execution_count": 3,
   "id": "36b2697d",
   "metadata": {},
   "outputs": [],
   "source": [
    "model = lms.llm(\"google/gemma-3-4b\")"
   ]
  },
  {
   "cell_type": "code",
   "execution_count": 4,
   "id": "b35a4946",
   "metadata": {},
   "outputs": [],
   "source": [
    "def character_error_rate(pred, truth):\n",
    "    sm = SequenceMatcher(None, truth, pred)\n",
    "    substitutions = deletions = insertions = 0\n",
    "    for tag, i1, i2, j1, j2 in sm.get_opcodes():\n",
    "        if tag == 'replace':\n",
    "            substitutions += max(i2 - i1, j2 - j1)\n",
    "        elif tag == 'delete':\n",
    "            deletions += (i2 - i1)\n",
    "        elif tag == 'insert':\n",
    "            insertions += (j2 - j1)\n",
    "\n",
    "    N = len(truth)\n",
    "    if N == 0:\n",
    "        return 1.0 if len(pred) > 0 else 0.0\n",
    "    cer = (substitutions + deletions + insertions) / N\n",
    "    return cer"
   ]
  },
  {
   "cell_type": "code",
   "execution_count": 5,
   "id": "5f53c021",
   "metadata": {},
   "outputs": [],
   "source": [
    "ground_truths = []\n",
    "with open(GROUND_TRUTH_FILE, 'r') as f:\n",
    "    reader = csv.DictReader(f)\n",
    "    for row in reader:\n",
    "        ground_truths.append(row)"
   ]
  },
  {
   "cell_type": "code",
   "execution_count": 7,
   "id": "2aab20c5",
   "metadata": {},
   "outputs": [
    {
     "name": "stdout",
     "output_type": "stream",
     "text": [
      "[INFO] File: test001_2.jpg\n",
      "       Ground Truth: B2407UZ0\n",
      "       Prediction  : B2407UZO\n",
      "       CER Score   : 0.1250\n",
      "\n",
      "[INFO] File: test002_1.jpg\n",
      "       Ground Truth: BG1352AE\n",
      "       Prediction  : BG1352AE\n",
      "       CER Score   : 0.0000\n",
      "\n",
      "[INFO] File: test003_1.jpg\n",
      "       Ground Truth: B2634UZF\n",
      "       Prediction  : B2634UZF\n",
      "       CER Score   : 0.0000\n",
      "\n",
      "[INFO] File: test014_1.jpg\n",
      "       Ground Truth: B1388DFX\n",
      "       Prediction  : 1388DFX\n",
      "       CER Score   : 0.1250\n",
      "\n",
      "[INFO] File: test035_3.jpg\n",
      "       Ground Truth: L2498AAM\n",
      "       Prediction  : 2498AAM\n",
      "       CER Score   : 0.1250\n",
      "\n",
      "[INFO] File: test035_4.jpg\n",
      "       Ground Truth: W1696YO\n",
      "       Prediction  : W1696YO\n",
      "       CER Score   : 0.0000\n",
      "\n",
      "[INFO] File: test036_2.jpg\n",
      "       Ground Truth: B1618UAE\n",
      "       Prediction  : B1618UAE\n",
      "       CER Score   : 0.0000\n",
      "\n",
      "[INFO] File: test050_1.jpg\n",
      "       Ground Truth: L1265OF\n",
      "       Prediction  : 1265OF\n",
      "       CER Score   : 0.1429\n",
      "\n",
      "[INFO] File: test055_1.jpg\n",
      "       Ground Truth: N1610KS\n",
      "       Prediction  : N1610KS\n",
      "       CER Score   : 0.0000\n",
      "\n",
      "[INFO] File: test060_1.jpg\n",
      "       Ground Truth: L1846JE\n",
      "       Prediction  : 1846JE\n",
      "       CER Score   : 0.1429\n",
      "\n"
     ]
    }
   ],
   "source": [
    "results = []\n",
    "for row in ground_truths:\n",
    "    image_file = row[\"images\"]\n",
    "    gt = row[\"ground_truth\"]\n",
    "\n",
    "    image_path = os.path.join(TEST_FOLDER, image_file)\n",
    "    if not os.path.exists(image_path):\n",
    "        print(f\"[WARNING] File {image_file} tidak ditemukan, skip...\")\n",
    "        continue\n",
    "\n",
    "    image_handle = lms.prepare_image(image_path)\n",
    "    chat = lms.Chat()\n",
    "    chat.add_user_message(\n",
    "        \"What is the license plate number shown in this image? Respond only with the plate number without spaces or punctuation, and do not include any expiration date.\",\n",
    "        images=[image_handle]\n",
    "    )\n",
    "\n",
    "    prediction_result = model.respond(chat)\n",
    "    prediction = prediction_result.content.strip()\n",
    "\n",
    "    cer_score = character_error_rate(prediction, gt)\n",
    "\n",
    "    results.append({\n",
    "        \"image\": image_file,\n",
    "        \"ground_truth\": gt,\n",
    "        \"prediction\": prediction,\n",
    "        \"CER_score\": cer_score\n",
    "    })\n",
    "\n",
    "    print(f\"[INFO] File: {image_file}\")\n",
    "    print(f\"       Ground Truth: {gt}\")\n",
    "    print(f\"       Prediction  : {prediction}\")\n",
    "    print(f\"       CER Score   : {cer_score:.4f}\\n\")"
   ]
  },
  {
   "cell_type": "code",
   "execution_count": 8,
   "id": "e32a96b8",
   "metadata": {},
   "outputs": [
    {
     "name": "stdout",
     "output_type": "stream",
     "text": [
      "[INFO] Semua hasil tersimpan di dataset\\prediction_results.csv\n"
     ]
    }
   ],
   "source": [
    "with open(OUTPUT_CSV, 'w', newline='') as f:\n",
    "    writer = csv.DictWriter(f, fieldnames=[\"image\", \"ground_truth\", \"prediction\", \"CER_score\"])\n",
    "    writer.writeheader()\n",
    "    writer.writerows(results)\n",
    "\n",
    "print(f\"[INFO] Semua hasil tersimpan di {OUTPUT_CSV}\")"
   ]
  }
 ],
 "metadata": {
  "kernelspec": {
   "display_name": "mutiarakhrnns",
   "language": "python",
   "name": "python3"
  },
  "language_info": {
   "codemirror_mode": {
    "name": "ipython",
    "version": 3
   },
   "file_extension": ".py",
   "mimetype": "text/x-python",
   "name": "python",
   "nbconvert_exporter": "python",
   "pygments_lexer": "ipython3",
   "version": "3.12.9"
  }
 },
 "nbformat": 4,
 "nbformat_minor": 5
}
